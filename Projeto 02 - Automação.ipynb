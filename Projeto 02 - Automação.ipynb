{
 "cells": [
  {
   "cell_type": "code",
   "execution_count": 4,
   "id": "050cf54c",
   "metadata": {},
   "outputs": [
    {
     "name": "stdout",
     "output_type": "stream",
     "text": [
      "Type the stock code (ticker): PETR4.SA\n"
     ]
    }
   ],
   "source": [
    "import yfinance\n",
    "import pyautogui\n",
    "import pyperclip\n",
    "\n",
    "stock_ticker = input(\"Type the stock code (ticker): \")\n",
    "stock_data = yfinance.Ticker(stock_ticker)\n",
    "stock_history = stock_data.history(\"6mo\")\n",
    "close_column = stock_history.Close\n",
    "\n",
    "max_price = round(close_column.max(), 2)\n",
    "min_price = round(close_column.min(), 2)\n",
    "current_price = round(close_column[-1], 2)\n",
    "\n",
    "pyautogui.PAUSE = 2\n",
    "\n",
    "pyautogui.hotkey(\"ctrl\", \"t\")\n",
    "pyperclip.copy(\"www.gmail.com\")\n",
    "pyautogui.hotkey(\"ctrl\", \"v\")\n",
    "pyautogui.PAUSE = 5\n",
    "\n",
    "pyautogui.hotkey(\"enter\")\n",
    "pyautogui.click(x = 163, y = 257)\n",
    "\n",
    "pyautogui.PAUSE = 1\n",
    "\n",
    "pyperclip.copy(\"noone@email.com\")\n",
    "pyautogui.hotkey(\"ctrl\", \"v\")\n",
    "\n",
    "pyautogui.hotkey(\"tab\")\n",
    "pyperclip.copy(\"Ola! Isso é um teste!\")\n",
    "pyautogui.hotkey(\"ctrl\", \"v\")\n",
    "\n",
    "email_body = f\"\"\"\n",
    "Seguem os valores da ação {stock_ticker}:\n",
    "Valor atual: R${current_price}\n",
    "Nos últimos 6 meses\n",
    "Valor máximo: R${max_price}\n",
    "Valor mínimo: R${min_price}\n",
    "\"\"\"\n",
    "\n",
    "pyautogui.hotkey(\"tab\")\n",
    "pyperclip.copy(email_body)\n",
    "pyautogui.hotkey(\"ctrl\", \"v\")\n",
    "# pyautogui.click(x = 1199, y = 998) # <- will click on send"
   ]
  }
 ],
 "metadata": {
  "kernelspec": {
   "display_name": "Python 3 (ipykernel)",
   "language": "python",
   "name": "python3"
  },
  "language_info": {
   "codemirror_mode": {
    "name": "ipython",
    "version": 3
   },
   "file_extension": ".py",
   "mimetype": "text/x-python",
   "name": "python",
   "nbconvert_exporter": "python",
   "pygments_lexer": "ipython3",
   "version": "3.9.13"
  }
 },
 "nbformat": 4,
 "nbformat_minor": 5
}
